{
 "cells": [
  {
   "cell_type": "markdown",
   "id": "990c58e1",
   "metadata": {},
   "source": [
    "<h1> Exploratory Weather Data Analysis  </h1>"
   ]
  },
  {
   "cell_type": "markdown",
   "id": "d12eb93b",
   "metadata": {},
   "source": [
    "- Create a Jupyter notebook in the folder notebooks. In this notebook, make an initial exploratory data analysis, where you:\n",
    "    - load the data\n",
    "    - report the dimensions of the data (number of rows / fields in the weather dataframe)\n",
    "    - make a sanity check: are there missing values anywhere in the weather data?\n",
    "    - filter the weather dataframe so that it only contains rows referring to your country of study\n",
    "    - aggregate the weather data by region and calculate the min, mean, median, and max of all numeric columns. Then plot one of these variables of your choice.\n",
    "    - aggregate the weather data by date and calculate the mean of all numeric columns. Then plot one of these variables of your choice."
   ]
  },
  {
   "cell_type": "code",
   "execution_count": 1,
   "id": "a7a32f1a",
   "metadata": {},
   "outputs": [],
   "source": [
    "import pandas as pd"
   ]
  },
  {
   "cell_type": "markdown",
   "id": "2313f87a",
   "metadata": {},
   "source": [
    "- load the data\n",
    "- report the dimensions of the data (number of rows / fields in the weather dataframe)"
   ]
  },
  {
   "cell_type": "code",
   "execution_count": 2,
   "id": "67f6b1ad",
   "metadata": {},
   "outputs": [
    {
     "name": "stdout",
     "output_type": "stream",
     "text": [
      "(20220, 9)\n"
     ]
    }
   ],
   "source": [
    "data = pd.read_csv(\"./weather/weather.csv\")\n",
    "\n",
    "print(data.shape)"
   ]
  },
  {
   "cell_type": "markdown",
   "id": "529805e7",
   "metadata": {},
   "source": [
    "- make a sanity check: are there missing values anywhere in the weather data?"
   ]
  },
  {
   "cell_type": "code",
   "execution_count": 3,
   "id": "7a451736",
   "metadata": {},
   "outputs": [
    {
     "name": "stdout",
     "output_type": "stream",
     "text": [
      "False\n"
     ]
    }
   ],
   "source": [
    "print(data.isna().any().any())"
   ]
  },
  {
   "cell_type": "markdown",
   "id": "c1cff38f",
   "metadata": {},
   "source": [
    "- filter the weather dataframe so that it only contains rows referring to your country of study"
   ]
  },
  {
   "cell_type": "code",
   "execution_count": 4,
   "id": "35dd077c",
   "metadata": {},
   "outputs": [
    {
     "data": {
      "text/html": [
       "<div>\n",
       "<style scoped>\n",
       "    .dataframe tbody tr th:only-of-type {\n",
       "        vertical-align: middle;\n",
       "    }\n",
       "\n",
       "    .dataframe tbody tr th {\n",
       "        vertical-align: top;\n",
       "    }\n",
       "\n",
       "    .dataframe thead th {\n",
       "        text-align: right;\n",
       "    }\n",
       "</style>\n",
       "<table border=\"1\" class=\"dataframe\">\n",
       "  <thead>\n",
       "    <tr style=\"text-align: right;\">\n",
       "      <th></th>\n",
       "      <th>date</th>\n",
       "      <th>iso3166-2</th>\n",
       "      <th>RelativeHumiditySurface</th>\n",
       "      <th>SolarRadiation</th>\n",
       "      <th>Surfacepressure</th>\n",
       "      <th>TemperatureAboveGround</th>\n",
       "      <th>Totalprecipitation</th>\n",
       "      <th>UVIndex</th>\n",
       "      <th>WindSpeed</th>\n",
       "    </tr>\n",
       "  </thead>\n",
       "  <tbody>\n",
       "    <tr>\n",
       "      <th>33</th>\n",
       "      <td>2020-02-13</td>\n",
       "      <td>SE-AB</td>\n",
       "      <td>77.031734</td>\n",
       "      <td>3.628275e+06</td>\n",
       "      <td>2.389095e+06</td>\n",
       "      <td>273.121578</td>\n",
       "      <td>0.000000</td>\n",
       "      <td>0.000000</td>\n",
       "      <td>3.675591</td>\n",
       "    </tr>\n",
       "    <tr>\n",
       "      <th>34</th>\n",
       "      <td>2020-02-13</td>\n",
       "      <td>SE-AC</td>\n",
       "      <td>93.144776</td>\n",
       "      <td>1.134221e+06</td>\n",
       "      <td>2.268189e+06</td>\n",
       "      <td>261.928398</td>\n",
       "      <td>0.000194</td>\n",
       "      <td>0.000000</td>\n",
       "      <td>1.294817</td>\n",
       "    </tr>\n",
       "    <tr>\n",
       "      <th>35</th>\n",
       "      <td>2020-02-13</td>\n",
       "      <td>SE-BD</td>\n",
       "      <td>84.985182</td>\n",
       "      <td>5.838355e+05</td>\n",
       "      <td>2.250394e+06</td>\n",
       "      <td>259.535712</td>\n",
       "      <td>0.000112</td>\n",
       "      <td>0.000000</td>\n",
       "      <td>1.603159</td>\n",
       "    </tr>\n",
       "    <tr>\n",
       "      <th>36</th>\n",
       "      <td>2020-02-13</td>\n",
       "      <td>SE-C</td>\n",
       "      <td>80.092733</td>\n",
       "      <td>3.148763e+06</td>\n",
       "      <td>2.386330e+06</td>\n",
       "      <td>272.107564</td>\n",
       "      <td>0.000000</td>\n",
       "      <td>0.000000</td>\n",
       "      <td>2.669467</td>\n",
       "    </tr>\n",
       "    <tr>\n",
       "      <th>37</th>\n",
       "      <td>2020-02-13</td>\n",
       "      <td>SE-D</td>\n",
       "      <td>70.096824</td>\n",
       "      <td>3.900326e+06</td>\n",
       "      <td>2.387066e+06</td>\n",
       "      <td>273.599179</td>\n",
       "      <td>0.000000</td>\n",
       "      <td>0.000000</td>\n",
       "      <td>3.631942</td>\n",
       "    </tr>\n",
       "    <tr>\n",
       "      <th>...</th>\n",
       "      <td>...</td>\n",
       "      <td>...</td>\n",
       "      <td>...</td>\n",
       "      <td>...</td>\n",
       "      <td>...</td>\n",
       "      <td>...</td>\n",
       "      <td>...</td>\n",
       "      <td>...</td>\n",
       "      <td>...</td>\n",
       "    </tr>\n",
       "    <tr>\n",
       "      <th>20215</th>\n",
       "      <td>2021-02-21</td>\n",
       "      <td>SE-U</td>\n",
       "      <td>91.916597</td>\n",
       "      <td>7.916121e+05</td>\n",
       "      <td>2.410170e+06</td>\n",
       "      <td>277.071493</td>\n",
       "      <td>0.001779</td>\n",
       "      <td>1.422222</td>\n",
       "      <td>2.021353</td>\n",
       "    </tr>\n",
       "    <tr>\n",
       "      <th>20216</th>\n",
       "      <td>2021-02-21</td>\n",
       "      <td>SE-W</td>\n",
       "      <td>96.715902</td>\n",
       "      <td>1.615278e+05</td>\n",
       "      <td>2.317050e+06</td>\n",
       "      <td>275.081778</td>\n",
       "      <td>0.001388</td>\n",
       "      <td>0.003466</td>\n",
       "      <td>2.420327</td>\n",
       "    </tr>\n",
       "    <tr>\n",
       "      <th>20217</th>\n",
       "      <td>2021-02-21</td>\n",
       "      <td>SE-X</td>\n",
       "      <td>95.125765</td>\n",
       "      <td>7.512086e+04</td>\n",
       "      <td>2.371164e+06</td>\n",
       "      <td>274.254015</td>\n",
       "      <td>0.002848</td>\n",
       "      <td>0.000305</td>\n",
       "      <td>1.859193</td>\n",
       "    </tr>\n",
       "    <tr>\n",
       "      <th>20218</th>\n",
       "      <td>2021-02-21</td>\n",
       "      <td>SE-Y</td>\n",
       "      <td>88.577506</td>\n",
       "      <td>8.054834e+02</td>\n",
       "      <td>2.363886e+06</td>\n",
       "      <td>267.815215</td>\n",
       "      <td>0.003638</td>\n",
       "      <td>0.000000</td>\n",
       "      <td>2.610603</td>\n",
       "    </tr>\n",
       "    <tr>\n",
       "      <th>20219</th>\n",
       "      <td>2021-02-21</td>\n",
       "      <td>SE-Z</td>\n",
       "      <td>88.759866</td>\n",
       "      <td>7.960722e+04</td>\n",
       "      <td>2.274259e+06</td>\n",
       "      <td>270.518101</td>\n",
       "      <td>0.003600</td>\n",
       "      <td>0.000000</td>\n",
       "      <td>3.317784</td>\n",
       "    </tr>\n",
       "  </tbody>\n",
       "</table>\n",
       "<p>7875 rows × 9 columns</p>\n",
       "</div>"
      ],
      "text/plain": [
       "             date iso3166-2  RelativeHumiditySurface  SolarRadiation  \\\n",
       "33     2020-02-13     SE-AB                77.031734    3.628275e+06   \n",
       "34     2020-02-13     SE-AC                93.144776    1.134221e+06   \n",
       "35     2020-02-13     SE-BD                84.985182    5.838355e+05   \n",
       "36     2020-02-13      SE-C                80.092733    3.148763e+06   \n",
       "37     2020-02-13      SE-D                70.096824    3.900326e+06   \n",
       "...           ...       ...                      ...             ...   \n",
       "20215  2021-02-21      SE-U                91.916597    7.916121e+05   \n",
       "20216  2021-02-21      SE-W                96.715902    1.615278e+05   \n",
       "20217  2021-02-21      SE-X                95.125765    7.512086e+04   \n",
       "20218  2021-02-21      SE-Y                88.577506    8.054834e+02   \n",
       "20219  2021-02-21      SE-Z                88.759866    7.960722e+04   \n",
       "\n",
       "       Surfacepressure  TemperatureAboveGround  Totalprecipitation   UVIndex  \\\n",
       "33        2.389095e+06              273.121578            0.000000  0.000000   \n",
       "34        2.268189e+06              261.928398            0.000194  0.000000   \n",
       "35        2.250394e+06              259.535712            0.000112  0.000000   \n",
       "36        2.386330e+06              272.107564            0.000000  0.000000   \n",
       "37        2.387066e+06              273.599179            0.000000  0.000000   \n",
       "...                ...                     ...                 ...       ...   \n",
       "20215     2.410170e+06              277.071493            0.001779  1.422222   \n",
       "20216     2.317050e+06              275.081778            0.001388  0.003466   \n",
       "20217     2.371164e+06              274.254015            0.002848  0.000305   \n",
       "20218     2.363886e+06              267.815215            0.003638  0.000000   \n",
       "20219     2.274259e+06              270.518101            0.003600  0.000000   \n",
       "\n",
       "       WindSpeed  \n",
       "33      3.675591  \n",
       "34      1.294817  \n",
       "35      1.603159  \n",
       "36      2.669467  \n",
       "37      3.631942  \n",
       "...          ...  \n",
       "20215   2.021353  \n",
       "20216   2.420327  \n",
       "20217   1.859193  \n",
       "20218   2.610603  \n",
       "20219   3.317784  \n",
       "\n",
       "[7875 rows x 9 columns]"
      ]
     },
     "execution_count": 4,
     "metadata": {},
     "output_type": "execute_result"
    }
   ],
   "source": [
    "data_by_region = data.groupby(by = \"iso3166-2\")\n",
    "data = data[data['iso3166-2'].str.startswith('SE')]\n",
    "data"
   ]
  }
 ],
 "metadata": {
  "kernelspec": {
   "display_name": "Python 3",
   "language": "python",
   "name": "python3"
  },
  "language_info": {
   "codemirror_mode": {
    "name": "ipython",
    "version": 3
   },
   "file_extension": ".py",
   "mimetype": "text/x-python",
   "name": "python",
   "nbconvert_exporter": "python",
   "pygments_lexer": "ipython3",
   "version": "3.8.8"
  }
 },
 "nbformat": 4,
 "nbformat_minor": 5
}
