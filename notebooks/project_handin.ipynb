{
 "cells": [
  {
   "cell_type": "markdown",
   "id": "6b24e9de",
   "metadata": {},
   "source": [
    "Task 0: Data filtering and cleaning\n",
    "Out of the raw dataset, create a processed data set that contains only fields and records that are relevant to your analysis. You are going to use this processed data set for all the tasks below. Briefly describe your data set in a numerical summary (e.g. number/meaning of fields and records, statistical key metrics).\n",
    "3.2 Task 1: Single variable analysis\n",
    "Report key statistics for the relevant variables you selected for your analysis (e.g. number of infected and temperature) for 1) the different country regions, and 2) in different levels of aggregation (daily, weekly, monthly).\n",
    "3.3 Task 2: Associations\n",
    "Research whether there is a significant statistical association in your country between weather data and infection rates. Report whether there is a statistically significant association between your chosen variables or not, together with the appropriate statistical metric(s). Discuss why this association, or the lack of this association, is relevant for policies.\n",
    "3.4 Task 3: Map visualization\n",
    "Visualize a selection of important variables on a map of your country.\n",
    "3.5 Task 4: Open question\n",
    "Use the data to formulate, motivate, answer, and discuss another research question of your choice. For example, compare your country to another one in the dataset; or investigate additional variables that you could find elsewhere (e.g. total population, population density, population demographics such as age distribution, number of elders, etc); or identify if there are temporal patterns (is one variable more important in some months? Are weekends different from weekdays? Etc), ...\n"
   ]
  },
  {
   "cell_type": "markdown",
   "id": "1883187b",
   "metadata": {},
   "source": [
    "<h1> Project 1 </h1>"
   ]
  },
  {
   "cell_type": "markdown",
   "id": "d661483b",
   "metadata": {},
   "source": [
    "<b> Group: </b> A <br>\n",
    "<b> Members: </b> - Francisco Parente (frvi@itu.dk) <br>\n",
    "- Janusz Wilczek (jawi@itu.dk) <br>\n",
    "- Julia Justyna Maziarz (jmaz@itu.dk) <br>\n",
    "- Juraj Septak (juse@itu.dk) <br>\n",
    "- Lukas Sarka (lsar@itu.dk) <br>\n",
    "<b> Country: </b> Sweden"
   ]
  },
  {
   "cell_type": "markdown",
   "id": "50662e81",
   "metadata": {},
   "source": [
    "<h2> Task 0: Data filtering and cleaning </h2>"
   ]
  },
  {
   "cell_type": "markdown",
   "id": "ffb4869b",
   "metadata": {},
   "source": [
    "<b> Task description: </b> \n",
    "\n",
    "Out of the raw dataset, create a processed data set that contains only fields and records that are relevant to your analysis. You are going to use this processed data set for all the tasks below.\n",
    "\n",
    "Briefly describe your data set in a numerical summary (e.g. number/meaning of fields and records, statistical key metrics). "
   ]
  },
  {
   "cell_type": "code",
   "execution_count": 3,
   "id": "924067cb",
   "metadata": {},
   "outputs": [],
   "source": [
    "import pandas as pd\n",
    "\n",
    "import folium, json\n",
    "\n",
    "import statsmodels.api as sm\n",
    "from scipy.stats import pearsonr, spearmanr\n",
    "import numpy as np\n",
    "from   statsmodels.stats.multitest  import multipletests\n",
    "\n",
    "from sklearn import linear_model\n",
    "from statsmodels.regression.linear_model import OLS\n",
    "import statsmodels as sm\n",
    "\n",
    "from datetime import timedelta"
   ]
  },
  {
   "cell_type": "markdown",
   "id": "b6e252a4",
   "metadata": {},
   "source": [
    "<h3> Initial analysis of data </h3>\n",
    "\n",
    "WEATHER DATA "
   ]
  },
  {
   "cell_type": "code",
   "execution_count": 12,
   "id": "14691737",
   "metadata": {},
   "outputs": [
    {
     "name": "stdout",
     "output_type": "stream",
     "text": [
      "Shape:  (20220, 9)\n",
      "Empty cells:  False\n"
     ]
    }
   ],
   "source": [
    "'''Initial analysis of weather data'''\n",
    "weather_data = pd.read_csv(\"../data/raw/weather/weather.csv\", encoding = 'utf-8')\n",
    "print('Shape: ',weather_data.shape) #checking the shape of the dataset\n",
    "print('Empty cells: ',weather_data.isna().any().any()) #checking if the file has empty cells\n",
    "\n",
    "'''Filtering the data valid for our country'''\n",
    "weather_data = weather_data[weather_data['iso3166-2'].str.startswith('SE')]\n",
    "\n",
    "'''Creating smaller datasets'''\n",
    "weather_by_region = weather_data.groupby(by = 'iso3166-2').agg(['min','mean','median','max'])\n",
    "weather_by_date = weather_data.groupby(by = 'date').agg(['mean'])"
   ]
  }
 ],
 "metadata": {
  "kernelspec": {
   "display_name": "Python 3",
   "language": "python",
   "name": "python3"
  },
  "language_info": {
   "codemirror_mode": {
    "name": "ipython",
    "version": 3
   },
   "file_extension": ".py",
   "mimetype": "text/x-python",
   "name": "python",
   "nbconvert_exporter": "python",
   "pygments_lexer": "ipython3",
   "version": "3.8.8"
  }
 },
 "nbformat": 4,
 "nbformat_minor": 5
}
